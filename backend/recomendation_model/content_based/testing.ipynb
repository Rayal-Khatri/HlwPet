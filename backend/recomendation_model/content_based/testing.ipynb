{
 "cells": [
  {
   "cell_type": "markdown",
   "metadata": {},
   "source": [
    "# Testing the recommendation model"
   ]
  },
  {
   "cell_type": "markdown",
   "metadata": {},
   "source": [
    "## importing vectors,vectorizer and dataframe"
   ]
  },
  {
   "cell_type": "code",
   "execution_count": 1,
   "metadata": {},
   "outputs": [],
   "source": [
    "from sklearn.metrics.pairwise import cosine_similarity"
   ]
  },
  {
   "cell_type": "code",
   "execution_count": 2,
   "metadata": {},
   "outputs": [],
   "source": [
    "import pandas as pd\n",
    "import numpy as np\n",
    "import pickle\n"
   ]
  },
  {
   "cell_type": "code",
   "execution_count": 7,
   "metadata": {},
   "outputs": [],
   "source": [
    "vector = pickle.load(open(\"utils/vector.pkl\", \"rb\"))\n",
    "cv = pickle.load(open(\"utils/cv.pkl\", \"rb\"))\n"
   ]
  },
  {
   "cell_type": "code",
   "execution_count": 3,
   "metadata": {},
   "outputs": [],
   "source": [
    "df = pd.read_csv('preprocesses_data.csv')\n"
   ]
  },
  {
   "cell_type": "markdown",
   "metadata": {},
   "source": [
    "## selecting random post for recommendation"
   ]
  },
  {
   "cell_type": "code",
   "execution_count": 13,
   "metadata": {},
   "outputs": [
    {
     "data": {
      "text/plain": [
       "31    i have never wanted a cat or any other pet i s...\n",
       "Name: tags, dtype: object"
      ]
     },
     "execution_count": 13,
     "metadata": {},
     "output_type": "execute_result"
    }
   ],
   "source": [
    "test_query = df[df[\"Post ID\"] == 53].tags\n",
    "test_query\n"
   ]
  },
  {
   "cell_type": "markdown",
   "metadata": {},
   "source": [
    "## vectorizing the text"
   ]
  },
  {
   "cell_type": "code",
   "execution_count": 14,
   "metadata": {},
   "outputs": [],
   "source": [
    "test_query_vec = cv.transform(test_query)\n"
   ]
  },
  {
   "cell_type": "markdown",
   "metadata": {},
   "source": [
    "## calculating similarity between test_data and whole data"
   ]
  },
  {
   "cell_type": "code",
   "execution_count": 16,
   "metadata": {},
   "outputs": [
    {
     "data": {
      "text/html": [
       "<div>\n",
       "<style scoped>\n",
       "    .dataframe tbody tr th:only-of-type {\n",
       "        vertical-align: middle;\n",
       "    }\n",
       "\n",
       "    .dataframe tbody tr th {\n",
       "        vertical-align: top;\n",
       "    }\n",
       "\n",
       "    .dataframe thead th {\n",
       "        text-align: right;\n",
       "    }\n",
       "</style>\n",
       "<table border=\"1\" class=\"dataframe\">\n",
       "  <thead>\n",
       "    <tr style=\"text-align: right;\">\n",
       "      <th></th>\n",
       "      <th>Post ID</th>\n",
       "      <th>Community ID</th>\n",
       "      <th>Community Name</th>\n",
       "      <th>Author ID</th>\n",
       "      <th>Author Username</th>\n",
       "      <th>Created At</th>\n",
       "      <th>Title</th>\n",
       "      <th>Content</th>\n",
       "      <th>tags</th>\n",
       "    </tr>\n",
       "  </thead>\n",
       "  <tbody>\n",
       "    <tr>\n",
       "      <th>31</th>\n",
       "      <td>53</td>\n",
       "      <td>64</td>\n",
       "      <td>petmandu</td>\n",
       "      <td>263</td>\n",
       "      <td>lawsonjessica</td>\n",
       "      <td>2024-02-29 17:17:05.303659+00:00</td>\n",
       "      <td>['Advice', 'about', 'a', 'kitten', '🐾']</td>\n",
       "      <td>['I', 'have', 'never', 'wanted', 'a', 'cat', '...</td>\n",
       "      <td>i have never wanted a cat or any other pet i s...</td>\n",
       "    </tr>\n",
       "    <tr>\n",
       "      <th>33</th>\n",
       "      <td>44</td>\n",
       "      <td>66</td>\n",
       "      <td>smart pet</td>\n",
       "      <td>320</td>\n",
       "      <td>vargasdaniel</td>\n",
       "      <td>2024-02-29 17:13:55.476665+00:00</td>\n",
       "      <td>['Are', 'the', 'chances', 'of', 'having', 'a',...</td>\n",
       "      <td>['Considering', 'a', 'cat', 'in', 'the', 'futu...</td>\n",
       "      <td>considering a cat in the fyoutyoure bout am re...</td>\n",
       "    </tr>\n",
       "    <tr>\n",
       "      <th>53</th>\n",
       "      <td>67</td>\n",
       "      <td>65</td>\n",
       "      <td>neko state</td>\n",
       "      <td>393</td>\n",
       "      <td>michael07</td>\n",
       "      <td>2024-02-29 17:22:01.242990+00:00</td>\n",
       "      <td>['Cat', 'with', 'stomach', 'mass.', 'Please', ...</td>\n",
       "      <td>['Hey', 'everyone,', 'Unfortunately', 'my', 'c...</td>\n",
       "      <td>hey everyone younfortyounately my cat ha recen...</td>\n",
       "    </tr>\n",
       "    <tr>\n",
       "      <th>38</th>\n",
       "      <td>49</td>\n",
       "      <td>62</td>\n",
       "      <td>hello-pet</td>\n",
       "      <td>430</td>\n",
       "      <td>colleen74</td>\n",
       "      <td>2024-02-29 17:15:51.005301+00:00</td>\n",
       "      <td>['What', 'have', 'I', 'done', 'to', 'this', 'p...</td>\n",
       "      <td>[\"I'm\", 'sorry', 'this', 'is', 'so', 'lengthy'...</td>\n",
       "      <td>in sorry this is so lengthy bout context is im...</td>\n",
       "    </tr>\n",
       "    <tr>\n",
       "      <th>52</th>\n",
       "      <td>66</td>\n",
       "      <td>64</td>\n",
       "      <td>petmandu</td>\n",
       "      <td>161</td>\n",
       "      <td>smithmelissa</td>\n",
       "      <td>2024-02-29 17:21:38.181901+00:00</td>\n",
       "      <td>['Keeping', 'cats', 'in', 'master', 'bedroom?']</td>\n",
       "      <td>[\"I've\", 'had', 'my', 'two', 'cats', 'since', ...</td>\n",
       "      <td>give had my two cat since 2020 bout my health ...</td>\n",
       "    </tr>\n",
       "  </tbody>\n",
       "</table>\n",
       "</div>"
      ],
      "text/plain": [
       "    Post ID  Community ID Community Name  Author ID Author Username  \\\n",
       "31       53            64       petmandu        263   lawsonjessica   \n",
       "33       44            66      smart pet        320    vargasdaniel   \n",
       "53       67            65     neko state        393       michael07   \n",
       "38       49            62      hello-pet        430       colleen74   \n",
       "52       66            64       petmandu        161    smithmelissa   \n",
       "\n",
       "                          Created At  \\\n",
       "31  2024-02-29 17:17:05.303659+00:00   \n",
       "33  2024-02-29 17:13:55.476665+00:00   \n",
       "53  2024-02-29 17:22:01.242990+00:00   \n",
       "38  2024-02-29 17:15:51.005301+00:00   \n",
       "52  2024-02-29 17:21:38.181901+00:00   \n",
       "\n",
       "                                                Title  \\\n",
       "31            ['Advice', 'about', 'a', 'kitten', '🐾']   \n",
       "33  ['Are', 'the', 'chances', 'of', 'having', 'a',...   \n",
       "53  ['Cat', 'with', 'stomach', 'mass.', 'Please', ...   \n",
       "38  ['What', 'have', 'I', 'done', 'to', 'this', 'p...   \n",
       "52    ['Keeping', 'cats', 'in', 'master', 'bedroom?']   \n",
       "\n",
       "                                              Content  \\\n",
       "31  ['I', 'have', 'never', 'wanted', 'a', 'cat', '...   \n",
       "33  ['Considering', 'a', 'cat', 'in', 'the', 'futu...   \n",
       "53  ['Hey', 'everyone,', 'Unfortunately', 'my', 'c...   \n",
       "38  [\"I'm\", 'sorry', 'this', 'is', 'so', 'lengthy'...   \n",
       "52  [\"I've\", 'had', 'my', 'two', 'cats', 'since', ...   \n",
       "\n",
       "                                                 tags  \n",
       "31  i have never wanted a cat or any other pet i s...  \n",
       "33  considering a cat in the fyoutyoure bout am re...  \n",
       "53  hey everyone younfortyounately my cat ha recen...  \n",
       "38  in sorry this is so lengthy bout context is im...  \n",
       "52  give had my two cat since 2020 bout my health ...  "
      ]
     },
     "execution_count": 16,
     "metadata": {},
     "output_type": "execute_result"
    }
   ],
   "source": [
    "similarity = cosine_similarity(test_query_vec, vector).flatten()\n",
    "\n",
    "# sort top 6 similar posts\n",
    "indices = np.argpartition(similarity, -6)[-6:]\n",
    "\n",
    "indices\n",
    "\n",
    "df.iloc[indices][::-1].iloc[1:, :]\n"
   ]
  }
 ],
 "metadata": {
  "kernelspec": {
   "display_name": "Python 3",
   "language": "python",
   "name": "python3"
  },
  "language_info": {
   "codemirror_mode": {
    "name": "ipython",
    "version": 3
   },
   "file_extension": ".py",
   "mimetype": "text/x-python",
   "name": "python",
   "nbconvert_exporter": "python",
   "pygments_lexer": "ipython3",
   "version": "3.11.5"
  }
 },
 "nbformat": 4,
 "nbformat_minor": 2
}
